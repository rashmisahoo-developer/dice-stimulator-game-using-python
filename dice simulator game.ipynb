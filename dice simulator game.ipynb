{
 "cells": [
  {
   "cell_type": "code",
   "execution_count": null,
   "metadata": {},
   "outputs": [
    {
     "name": "stdout",
     "output_type": "stream",
     "text": [
      " __________ \n",
      "| 0       0|\n",
      "|          |\n",
      "| 0       0|\n",
      "|__________|\n"
     ]
    },
    {
     "name": "stdin",
     "output_type": "stream",
     "text": [
      "Enter y to roll the dice again:   y\n"
     ]
    },
    {
     "name": "stdout",
     "output_type": "stream",
     "text": [
      " __________ \n",
      "| 0       0|\n",
      "|     0    |\n",
      "| 0       0|\n",
      "|__________|\n"
     ]
    },
    {
     "name": "stdin",
     "output_type": "stream",
     "text": [
      "Enter y to roll the dice again:   y\n"
     ]
    },
    {
     "name": "stdout",
     "output_type": "stream",
     "text": [
      " __________ \n",
      "|     0    |\n",
      "|     0    |\n",
      "|     0    |\n",
      "|__________|\n"
     ]
    },
    {
     "name": "stdin",
     "output_type": "stream",
     "text": [
      "Enter y to roll the dice again:   y\n",
      "Enter y to roll the dice again:   y\n"
     ]
    },
    {
     "name": "stdout",
     "output_type": "stream",
     "text": [
      " __________ \n",
      "|          |\n",
      "| 0      0 |\n",
      "|          |\n",
      "|__________|\n"
     ]
    },
    {
     "name": "stdin",
     "output_type": "stream",
     "text": [
      "Enter y to roll the dice again:   y\n"
     ]
    },
    {
     "name": "stdout",
     "output_type": "stream",
     "text": [
      " __________ \n",
      "| 0       0|\n",
      "|     0    |\n",
      "| 0       0|\n",
      "|__________|\n"
     ]
    }
   ],
   "source": [
    "import random\n",
    "x='y'\n",
    "while x=='y' or x=='Y':\n",
    "    number=random.randint(1,7)\n",
    "    if number==1:\n",
    "        print(\" __________ \")\n",
    "        print(\"|          |\")\n",
    "        print(\"|     0    |\")\n",
    "        print(\"|          |\")\n",
    "        print(\"|__________|\")\n",
    "    if number==2:\n",
    "        print(\" __________ \")\n",
    "        print(\"|          |\")\n",
    "        print(\"| 0      0 |\")\n",
    "        print(\"|          |\")\n",
    "        print(\"|__________|\")\n",
    "    if number==3:\n",
    "        print(\" __________ \")\n",
    "        print(\"|     0    |\")\n",
    "        print(\"|     0    |\")\n",
    "        print(\"|     0    |\")\n",
    "        print(\"|__________|\")\n",
    "    if number==4:\n",
    "        print(\" __________ \")\n",
    "        print(\"| 0       0|\")\n",
    "        print(\"|          |\")\n",
    "        print(\"| 0       0|\")\n",
    "        print(\"|__________|\")\n",
    "    if number==5:\n",
    "        print(\" __________ \")\n",
    "        print(\"| 0       0|\")\n",
    "        print(\"|     0    |\")\n",
    "        print(\"| 0       0|\")\n",
    "        print(\"|__________|\")\n",
    "    if number==6:\n",
    "        print(\" __________ \")\n",
    "        print(\"| 0       0|\")\n",
    "        print(\"| 0       0|\")\n",
    "        print(\"| 0       0|\")\n",
    "        print(\"|__________|\")\n",
    "    x=input(\"Enter y to roll the dice again:  \")\n",
    "    \n"
   ]
  },
  {
   "cell_type": "code",
   "execution_count": null,
   "metadata": {},
   "outputs": [],
   "source": []
  }
 ],
 "metadata": {
  "kernelspec": {
   "display_name": "Python 3",
   "language": "python",
   "name": "python3"
  },
  "language_info": {
   "codemirror_mode": {
    "name": "ipython",
    "version": 3
   },
   "file_extension": ".py",
   "mimetype": "text/x-python",
   "name": "python",
   "nbconvert_exporter": "python",
   "pygments_lexer": "ipython3",
   "version": "3.9.0"
  }
 },
 "nbformat": 4,
 "nbformat_minor": 4
}
